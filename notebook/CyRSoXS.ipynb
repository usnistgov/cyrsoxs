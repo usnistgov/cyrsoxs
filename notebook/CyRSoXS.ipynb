{
 "cells": [
  {
   "cell_type": "markdown",
   "metadata": {},
   "source": [
    "# Python interface for Cy-RSoXS"
   ]
  },
  {
   "cell_type": "markdown",
   "metadata": {},
   "source": [
    " - Copyright @ Iowa State University\n",
    " - Distributed freely under MIT license.\n",
    " - Current Version = 0.8.0\n",
    " - Comments/Questions :    \n",
    "        1. Dr. Baskar GanapathySubramanian (baskarg@iastate.edu)     \n",
    "        2. Dr. Adrash Krishnamurthy        (adarsh@iastate.edu)                                 \n",
    " "
   ]
  },
  {
   "cell_type": "markdown",
   "metadata": {},
   "source": [
    "## Notebook Dependencies\n",
    "\n",
    "The notebook has following dependencies:\n",
    "\n",
    "- python3 (Version >= 3.6)\n",
    "- numpy\n",
    "- pandas\n",
    "- h5py (For HDF related utilities)\n"
   ]
  },
  {
   "cell_type": "markdown",
   "metadata": {},
   "source": [
    "## Interface Overview:\n",
    "\n",
    "The following input are required to run the Cy-RSoXS:\n",
    "\n",
    "- Input Data parameters.\n",
    "- Optical constants data at different energies calculate the refractive index.\n",
    "- The morphology data."
   ]
  },
  {
   "cell_type": "markdown",
   "metadata": {},
   "source": [
    "### Preprocessing Step 0: Import the path to the library.\n",
    "You should have `CyRSoXS.so` located in the directory"
   ]
  },
  {
   "cell_type": "code",
   "execution_count": null,
   "metadata": {},
   "outputs": [],
   "source": [
    "import sys\n",
    "sys.path.append(\"/home/maksbh/Documents/Work/cy-rsoxs/cmake-build-debug\") "
   ]
  },
  {
   "cell_type": "code",
   "execution_count": null,
   "metadata": {},
   "outputs": [],
   "source": [
    "# import the relevant modules\n",
    "\n",
    "import h5py\n",
    "import CyRSoXS as cy\n",
    "import pandas as pd\n",
    "import numpy as np"
   ]
  },
  {
   "cell_type": "markdown",
   "metadata": {},
   "source": [
    "## Preprocessing Step 2: Computing Optical constants from file"
   ]
  },
  {
   "cell_type": "code",
   "execution_count": null,
   "metadata": {},
   "outputs": [],
   "source": [
    "# label for the column for the respective energies.\n",
    "# Note: The column starts from 0    \n",
    "\n",
    "labelEnergy={\"BetaPara\":0,\n",
    "                 \"BetaPerp\":1,\n",
    "                 \"DeltaPara\":2,\n",
    "                 \"DeltaPerp\":3,\n",
    "                 \"Energy\":6}"
   ]
  },
  {
   "cell_type": "code",
   "execution_count": null,
   "metadata": {},
   "outputs": [],
   "source": [
    "def generateDataFrame(filename,labelEnergy,sep='\\s+'):\n",
    "    '''\n",
    "    Returns DataFrame of the Energy\n",
    "     \n",
    "         Parameters:\n",
    "             filename    (String) : The path where the filename is located.\n",
    "             labelEnergy (dict)   : The dict with label Energy for each file.\n",
    "             sep         (String) : Seperator for the file.\n",
    "             \n",
    "        Returns:\n",
    "            A dataframe with columns as the optical constants.\n",
    "    '''\n",
    "    EnergyFile = pd.read_csv(filename,sep)\n",
    "    df = EnergyFile.iloc[: , [labelEnergy[\"DeltaPara\"],\n",
    "                              labelEnergy[\"BetaPara\"],\n",
    "                              labelEnergy[\"DeltaPerp\"],\n",
    "                              labelEnergy[\"BetaPerp\"],\n",
    "                              labelEnergy[\"Energy\"],\n",
    "                              ]].copy() \n",
    "    df.columns=['DeltaPara','BetaPara','DeltaPerp','BetaPerp','Energy']\n",
    "    df.sort_values(by=['Energy'],inplace=True)\n",
    "    df.drop_duplicates(subset=['Energy'],keep=False,ignore_index=True,inplace=True)\n",
    "    return df"
   ]
  },
  {
   "cell_type": "code",
   "execution_count": null,
   "metadata": {},
   "outputs": [],
   "source": [
    " def getInterpolatedValue(df,value):\n",
    "    '''\n",
    "    Returns the linearly interpolated value after removing the duplicates, if any\n",
    "    \n",
    "        Parameters:\n",
    "            df  (DataFrame)      : A dataframe of energies created by generateDataFrame.\n",
    "            value (double/float) : The energy value at which you want to interpolate.\n",
    "        \n",
    "        Returns:\n",
    "            A list of interpolated optical properties for the given energy. \n",
    "    '''\n",
    "    energy_id = 4\n",
    "    nearest_id = df['Energy'].sub(value).abs().idxmin()\n",
    "    numColumns = len(df.columns)\n",
    "    valArray = np.zeros(numColumns);\n",
    "    if(df.iloc[nearest_id][energy_id] > value):\n",
    "        xp = [df.iloc[nearest_id - 1][energy_id], df.iloc[nearest_id ][energy_id]];\n",
    "        for i in range(0,numColumns):\n",
    "            yp = [df.iloc[nearest_id - 1][i], df.iloc[nearest_id][i]];\n",
    "            valArray[i] = np.interp(value,xp,yp);\n",
    "\n",
    "    elif (df.iloc[nearest_id][energy_id] < value):\n",
    "        xp = [df.iloc[nearest_id][energy_id], df.iloc[nearest_id + 1][energy_id]];\n",
    "        for i in range(0,numColumns):\n",
    "            yp = [df.iloc[nearest_id][i], df.iloc[nearest_id + 1][i]];\n",
    "            valArray[i] = np.interp(value,xp,yp);\n",
    "\n",
    "    else:\n",
    "        for i in range(0,numColumns):\n",
    "            valArray[i] = df.iloc[nearest_id][i];\n",
    "            \n",
    "    return valArray[0:4].tolist();\n"
   ]
  },
  {
   "cell_type": "code",
   "execution_count": null,
   "metadata": {},
   "outputs": [],
   "source": [
    "# Generating dataFrame for the text file.\n",
    "filename='PEOlig2018.txt'\n",
    "df=generateDataFrame(filename,labelEnergy)"
   ]
  },
  {
   "cell_type": "markdown",
   "metadata": {},
   "source": [
    "# Step 1 : Providing Input Data Parameters\n",
    "\n",
    "The Input Data for `Cy-RSoXS` has the following mandatory inputs:\n",
    "\n",
    "- The set of energies you want to run.\n",
    "- The physical dimensions in the order of (X,Y,Z). Note that HDF5 dimensions are in the order of (Z,Y,X)\n",
    "- The PhysSize (in nm)\n",
    "- The rotation Angle that you want to rotate the electric field\n",
    "\n",
    "Failuare to provide any one of the input will flag an error and the code will not launch.\n",
    "\n",
    "Additionally, there are optional input parameters for `Cy-RSoXS` as:\n",
    "- The interpolation used : Nearest Neighbour or Trilinear interpolation (Default: Trilinear)\n",
    "- Number of OpenMP threads: The minimum number of thread should be equal to number of GPU. (Deafult : 1)\n",
    "- Windowing Type for FFT: Hanning or None\n"
   ]
  },
  {
   "cell_type": "markdown",
   "metadata": {},
   "source": [
    "Key points:\n",
    "-------------------------\n",
    "- $Z$ axis corresponds to the thickness of the material\n",
    "- $\\vec{k} = (0,0,k)$  \n",
    "- $\\vec{E}$ field is rotated in $XY$ plane , $E_z = 0$"
   ]
  },
  {
   "cell_type": "code",
   "execution_count": null,
   "metadata": {},
   "outputs": [],
   "source": [
    "inputData = cy.InputData() # Create a object for Input Data"
   ]
  },
  {
   "cell_type": "code",
   "execution_count": null,
   "metadata": {},
   "outputs": [],
   "source": [
    "#Required dependecies:\n",
    "inputData.setEnergies([280]) \n",
    "inputData.physSize(5.0) # in nm\n",
    "inputData.dimensions(X= 64,Y= 64,Z=16)\n",
    "inputData.setRotationAngle(StartAngle = 0,EndAngle = 180,IncrementAngle = 2.0)"
   ]
  },
  {
   "cell_type": "code",
   "execution_count": null,
   "metadata": {},
   "outputs": [],
   "source": [
    "#Optional dependencies\n",
    "inputData.interpolationType = cy.InterpolationType.Linear\n",
    "inputData.windowingType = cy.FFTWindowing.NoPadding"
   ]
  },
  {
   "cell_type": "code",
   "execution_count": null,
   "metadata": {},
   "outputs": [],
   "source": [
    "inputData.validate() # Validate input Data. True means all required dependencies are present."
   ]
  },
  {
   "cell_type": "code",
   "execution_count": null,
   "metadata": {},
   "outputs": [],
   "source": [
    "inputData.print() # Check the input values"
   ]
  },
  {
   "cell_type": "markdown",
   "metadata": {},
   "source": [
    "# Step 2 : Providing Refractive Index Constants "
   ]
  },
  {
   "cell_type": "markdown",
   "metadata": {},
   "source": [
    "The refractive index is passed in the form of `list` from python to Cy-RSoXS.\n",
    "- The list is of the size (NumMaterial $\\times$ 4)\n",
    "- The list eneteries for each material must be in the order of [$\\delta_{\\parallel}$,$\\beta_{\\parallel}$, $\\delta_{\\perp}$, $\\beta_{\\perp}$]"
   ]
  },
  {
   "cell_type": "code",
   "execution_count": null,
   "metadata": {},
   "outputs": [],
   "source": [
    "refractiveIndex = cy.RefractiveIndex(inputData)"
   ]
  },
  {
   "cell_type": "code",
   "execution_count": null,
   "metadata": {},
   "outputs": [],
   "source": [
    "val = [getInterpolatedValue(df,280),getInterpolatedValue(df,280)]\n",
    "refractiveIndex.addData(OpticalConstants = val,Energy=280)"
   ]
  },
  {
   "cell_type": "code",
   "execution_count": null,
   "metadata": {},
   "outputs": [],
   "source": [
    "refractiveIndex.print() # Print the value to verify if its correct"
   ]
  },
  {
   "cell_type": "code",
   "execution_count": null,
   "metadata": {},
   "outputs": [],
   "source": [
    "refractiveIndex.validate()"
   ]
  },
  {
   "cell_type": "markdown",
   "metadata": {},
   "source": [
    "# Step 3 : Providing Voxel data\n",
    "\n",
    "The Voxel data comprises of 2 component defined for each material :\n",
    "- Aligned component   : A vector $(s_x,s_y,s_z)$ with alignment direction parallel to $z$ direction.\n",
    "- Unaligned component : A scalar component\n",
    "\n",
    "There are two ways of providing the voxelData:\n",
    "- Directly from HDF5 file.\n",
    "- From numpy arrays.\n",
    "\n",
    "These approaches are mutually exclusive. They can not be combined\n"
   ]
  },
  {
   "cell_type": "code",
   "execution_count": null,
   "metadata": {},
   "outputs": [],
   "source": [
    "voxelData = cy.VoxelData(inputData) #Create an object for Voxel Data"
   ]
  },
  {
   "cell_type": "markdown",
   "metadata": {},
   "source": [
    "### Approach 1 : Through HDF5 file\n",
    "\n",
    "It is straightforward. Just pass the HDF5 filename."
   ]
  },
  {
   "cell_type": "code",
   "execution_count": null,
   "metadata": {},
   "outputs": [],
   "source": [
    "voxelData.reset()\n",
    "voxelData.readFromH5(Filename = 'edgespheres64.hd5')\n",
    "voxelData.writeToH5()"
   ]
  },
  {
   "cell_type": "code",
   "execution_count": null,
   "metadata": {},
   "outputs": [],
   "source": [
    "voxelData.validate()"
   ]
  },
  {
   "cell_type": "markdown",
   "metadata": {},
   "source": [
    "### Approach 2 :  Through numpy arrays\n",
    "\n",
    "Make use of function `addVoxelData` to pass the numpy arrays. \n",
    "\n",
    "Remark 1: The code creates the copy of numpy arrays. If we want to pass it as a pointer, we would need to make sure that the memory layout of CyRSoXS is compatible with VoxelData in python. (Future work)\n",
    "\n",
    "Remark 2: You are allowed to provide the entry to the material only one time. If you have provided multiple times. Then it will not add the entry and would return a WARNING. You can call `reset` to overcome this and add the entries from scratch."
   ]
  },
  {
   "cell_type": "code",
   "execution_count": null,
   "metadata": {},
   "outputs": [],
   "source": [
    "f = h5py.File('edgespheres64.hd5', 'r')\n",
    "morph = f['vector_morphology']"
   ]
  },
  {
   "cell_type": "code",
   "execution_count": null,
   "metadata": {},
   "outputs": [],
   "source": [
    "#Note to cast the input into the required shape. For single bit computation use np.single.\n",
    "# Otherwise pybind will create a copy of memory while transferring the data to Cy-RSoXS\n",
    "Mat_1_alignment = (morph['Mat_1_alignment'].value).astype(np.single)\n",
    "Mat_2_alignment = (morph['Mat_2_alignment'].value).astype(np.single)\n",
    "Mat_1_unaligned = (morph['Mat_1_unaligned'].value).astype(np.single)\n",
    "Mat_2_unaligned = (morph['Mat_2_unaligned'].value).astype(np.single)"
   ]
  },
  {
   "cell_type": "code",
   "execution_count": null,
   "metadata": {},
   "outputs": [],
   "source": [
    "f.close() # Close the file"
   ]
  },
  {
   "cell_type": "code",
   "execution_count": null,
   "metadata": {},
   "outputs": [],
   "source": [
    "voxelData = cy.VoxelData(inputData)"
   ]
  },
  {
   "cell_type": "code",
   "execution_count": null,
   "metadata": {},
   "outputs": [],
   "source": [
    "voxelData.reset() # Just to reset. \n",
    "#Note that you can specify only one way to allocate either through HDF5 file or numpy array. Not a combined way\n",
    "voxelData.addVoxelData(Mat_1_alignment,Mat_1_unaligned,0)\n",
    "voxelData.addVoxelData(Mat_2_alignment,Mat_2_unaligned,1)"
   ]
  },
  {
   "cell_type": "markdown",
   "metadata": {},
   "source": [
    "# Step 4: Scattering Pattern "
   ]
  },
  {
   "cell_type": "markdown",
   "metadata": {},
   "source": [
    "- Allocate the memory to store scattering pattern. \n"
   ]
  },
  {
   "cell_type": "code",
   "execution_count": null,
   "metadata": {},
   "outputs": [],
   "source": [
    "scatteringPattern = cy.ScatteringPattern(inputData)\n",
    "scatteringPattern.allocate()"
   ]
  },
  {
   "cell_type": "markdown",
   "metadata": {},
   "source": [
    "# Step 5: Lauch the GPU code"
   ]
  },
  {
   "cell_type": "code",
   "execution_count": null,
   "metadata": {},
   "outputs": [],
   "source": [
    "with cy.ostream_redirect(stdout=True, stderr=True): # Redirects the std::cout output to Python console\n",
    "    cy.launch(VoxelData = voxelData,RefractiveIndexData = refractiveIndex,InputData = inputData,ScatteringPattern=scatteringPattern)\n"
   ]
  },
  {
   "cell_type": "markdown",
   "metadata": {},
   "source": [
    "# Step 6: Output\n",
    "\n",
    "There are three ways to output the scattering pattern:\n",
    "\n",
    "- Pass through numpy array\n",
    "- Dump to HDF5 file \n",
    "- Dump to VTI file"
   ]
  },
  {
   "cell_type": "code",
   "execution_count": null,
   "metadata": {},
   "outputs": [],
   "source": [
    "pattern = scatteringPattern.dataToNumpy(280) #Numpy array"
   ]
  },
  {
   "cell_type": "code",
   "execution_count": null,
   "metadata": {},
   "outputs": [],
   "source": [
    "scatteringPattern.writeToHDF5() # Write to HDF5"
   ]
  },
  {
   "cell_type": "code",
   "execution_count": null,
   "metadata": {},
   "outputs": [],
   "source": [
    "scatteringPattern.writeToVTI() # Write to VTI"
   ]
  },
  {
   "cell_type": "markdown",
   "metadata": {},
   "source": [
    "# Step 7: Cleanup"
   ]
  },
  {
   "cell_type": "markdown",
   "metadata": {},
   "source": [
    "You can cleanup individually or all at once."
   ]
  },
  {
   "cell_type": "code",
   "execution_count": null,
   "metadata": {},
   "outputs": [],
   "source": [
    "#Clearing individually\n",
    "voxelData.clear()\n",
    "scatteringPattern.clear()\n",
    "refractiveIndex.clear()"
   ]
  },
  {
   "cell_type": "code",
   "execution_count": null,
   "metadata": {},
   "outputs": [],
   "source": [
    "cy.cleanup(VoxelData = voxelData,ScatteringPattern = scatteringPattern,RefractiveIndex = refractiveIndex)"
   ]
  }
 ],
 "metadata": {
  "kernelspec": {
   "display_name": "Python 3",
   "language": "python",
   "name": "python3"
  },
  "language_info": {
   "codemirror_mode": {
    "name": "ipython",
    "version": 3
   },
   "file_extension": ".py",
   "mimetype": "text/x-python",
   "name": "python",
   "nbconvert_exporter": "python",
   "pygments_lexer": "ipython3",
   "version": "3.8.2"
  }
 },
 "nbformat": 4,
 "nbformat_minor": 4
}
